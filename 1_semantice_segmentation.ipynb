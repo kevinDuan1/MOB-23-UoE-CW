{
 "cells": [
  {
   "cell_type": "code",
   "execution_count": 2,
   "id": "81e09857-57bf-4dcf-9968-fd439fdd8ca0",
   "metadata": {},
   "outputs": [],
   "source": [
    "import torch"
   ]
  },
  {
   "cell_type": "markdown",
   "id": "2a8f33fa-48d2-4ae7-b9ed-6c3208deda1e",
   "metadata": {},
   "source": [
    "# DICE evaluation metric\n",
    "In the lab semantic segmentation, you have implemented IOU to evaluate the performance of the model. Here, you need to implement a similar evaluation metric called DICE or Sørensen–Dice coefficient, and it is formulated as: $$ DICE(X, X_{truth}) = \\frac{2|X \\cap X_{truth}|}{|X| + |X_{truth}|}$$ "
   ]
  },
  {
   "cell_type": "code",
   "execution_count": null,
   "id": "9ba67de8-cad4-4620-afc8-40f897b4d8e1",
   "metadata": {},
   "outputs": [],
   "source": [
    "def dice_coeff(inp : Tensor, tgt : Tensor):\n",
    "    \"\"\"\n",
    "    inp: predicted mask\n",
    "    tgt: Ground truth mask\n",
    "    \"\"\"\n",
    "    eps = 1e-5 # small number to add to denominator to avoid division by zero\n",
    "    #YOUR CODE START HERE\n",
    "    sum_dim = (-1, -2, -3)\n",
    "    # calculation of intersection   \n",
    "    inter = 2 *(inp * tgt).sum(dim=sum_dim)\n",
    "\n",
    "    # calculate the sum of |inp| + |tgt|\n",
    "    sets_sum = inp.sum(dim=sum_dim) + tgt.sum(dim=sum_dim)\n",
    "    sets_sum = torch.where(sets_sum == 0, inter, sets_sum)\n",
    "\n",
    "    # calcaute the dice    \n",
    "    dice = (inter + eps) / (sets_sum + eps)\n",
    "    \n",
    "    # average the dice of classwise\n",
    "    return dice.mean()"
   ]
  },
  {
   "cell_type": "markdown",
   "id": "90afc2aa-d450-4057-8fc0-52e2fd400e65",
   "metadata": {},
   "source": [
    "Based on their formulation, what are the **difference** among Cross-entropy, DICE, and IOU?  \n",
    "\n",
    "Your answer starts here"
   ]
  },
  {
   "cell_type": "markdown",
   "id": "c2deb627-e1d3-4c9c-8397-8d1db7e0b6c0",
   "metadata": {},
   "source": [
    "# Evaluate the model"
   ]
  },
  {
   "cell_type": "markdown",
   "id": "687b49fe-633c-4abd-8736-b26dda22df11",
   "metadata": {},
   "source": [
    "Now report the Cross-entropy, DICE, and IOU for a model of your preference. You can use a pretrained model from the lab or train new model, but keep in mind that your model is able to take in inputs of size $(B, 3, 128, 128)$ and output prediction of $(B, C, 128, 128)$, where $B$ is batch size and $C$ is number of classes (8 in our case). The preprocessed image and masks from the lab are loaded as Torch.tensor below:"
   ]
  },
  {
   "cell_type": "code",
   "execution_count": 5,
   "id": "692f00fc-b2cf-48c7-98b1-e52a9be0a64a",
   "metadata": {},
   "outputs": [],
   "source": [
    "input_images = torch.load('input_images.pth')\n",
    "masks = torch.load('masks.pth')"
   ]
  },
  {
   "cell_type": "code",
   "execution_count": null,
   "id": "096b6678-eb2c-4e7e-9cc3-fbcb46b96acf",
   "metadata": {},
   "outputs": [],
   "source": [
    "#YOUR CODE START HERE"
   ]
  }
 ],
 "metadata": {
  "kernelspec": {
   "display_name": "Python 3 (ipykernel)",
   "language": "python",
   "name": "python3"
  },
  "language_info": {
   "codemirror_mode": {
    "name": "ipython",
    "version": 3
   },
   "file_extension": ".py",
   "mimetype": "text/x-python",
   "name": "python",
   "nbconvert_exporter": "python",
   "pygments_lexer": "ipython3",
   "version": "3.10.11"
  }
 },
 "nbformat": 4,
 "nbformat_minor": 5
}
