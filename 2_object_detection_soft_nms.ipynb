{
 "cells": [
  {
   "cell_type": "code",
   "execution_count": null,
   "outputs": [],
   "source": [
    "import numpy as np"
   ],
   "metadata": {
    "collapsed": false,
    "pycharm": {
     "is_executing": true
    }
   }
  },
  {
   "cell_type": "markdown",
   "source": [
    "# Soft NMS Implementation"
   ],
   "metadata": {
    "collapsed": false
   }
  },
  {
   "cell_type": "code",
   "execution_count": null,
   "outputs": [],
   "source": [
    "# You will need iou function for implementing Soft-NMS, here is the iou implementation from the Lab2\n",
    "def iou(box1, box2):\n",
    "    [box1_x1, box1_y1, box1_x2, box1_y2] = box1\n",
    "    [box2_x1, box2_y1, box2_x2, box2_y2] = box2\n",
    "    xi1 = max(box1_x1, box2_x1)\n",
    "    yi1 = max(box1_y1, box2_y1)\n",
    "    xi2 = min(box1_x2, box2_x2)\n",
    "    yi2 = min(box1_y2, box2_y2)\n",
    "    inter_width = max(0, yi2 - yi1)\n",
    "    inter_height = max(0, xi2 - xi1)\n",
    "    inter_area = inter_width * inter_height\n",
    "    box1_area = (box1_x2 - box1_x1) * ((box1_y2 - box1_y1))\n",
    "    box2_area = (box2_x2 - box2_x1) * ((box2_y2 - box2_y1))\n",
    "    union_area = box1_area + box2_area - inter_area\n",
    "    iou = inter_area / union_area\n",
    "    return iou"
   ],
   "metadata": {
    "collapsed": false
   }
  },
  {
   "cell_type": "markdown",
   "source": [
    "#### Please implementing soft NMS algorithm in soft_nms() function"
   ],
   "metadata": {
    "collapsed": false
   }
  },
  {
   "cell_type": "code",
   "execution_count": null,
   "outputs": [],
   "source": [
    "def soft_nms(scores: np.array, boxes: np.array,sigma=0.5):\n",
    "    # scores - shape (,n) numpy array that contains scores of bounding boxes\n",
    "    # boxes - shape (n,4) numpy array that contains bounding boxes information.\n",
    "    #        Each element in array is a size=4 array of [x1,y1,x2,y2]\n",
    "    #        Where x1,y1 are the bottom left coordinates of bounding boxes,\n",
    "    #        and x2,y2 are the top right coordinates of bounding boxes.\n",
    "    # START of your implementation\n",
    "\n",
    "    # END of your implementation\n",
    "    # new_bbox - shape (n,4) numpy array that contains new bounding boxes information\n",
    "    # new_scores - shape (n,) numpy array that contains new bounding boxes scores\n",
    "    return new_bbox, new_scores"
   ],
   "metadata": {
    "collapsed": false
   }
  },
  {
   "cell_type": "code",
   "execution_count": null,
   "outputs": [],
   "source": [
    "boxes = np.array([[200, 200, 400, 400], [220, 220, 420, 420], [200, 240, 400, 440], [240, 200, 440, 400], [1, 1, 2, 2]], dtype=np.float32)\n",
    "scores = np.array([0.9, 0.8, 0.7, 0.6, 0.5], dtype=np.float32)\n",
    "\n",
    "boxes, scores = soft_nms(scores, boxes, sigma=0.5)\n",
    "print(\"scores[2] = \" + str(scores[2]))\n",
    "print(\"boxes[2] = \" + str(boxes[2]))\n",
    "print(\"scores = \" + str(scores))\n",
    "print(\"boxes = \" + str(boxes))\n",
    "print(\"scores.shape = \" + str(scores.shape))\n",
    "print(\"boxes.shape = \" + str(boxes.shape))\n",
    "\n",
    "assert scores.shape == (5,), \"Wrong shape\"\n",
    "assert boxes.shape == (5, 4), \"Wrong shape\"\n",
    "\n",
    "assert np.isclose(scores[2], 0.31670862), \"Wrong value on scores[2]\"\n",
    "assert np.allclose(boxes[2], [220,220,420,420]), \"Wrong value on boxes[2]\"\n",
    "\n",
    "assert np.allclose(scores, np.array([0.9,0.5,0.31670862,0.11392745,0.06270898])), \"Wrong value on scores\"\n",
    "assert np.allclose(boxes, np.array([[200, 200, 400, 400], [1, 1, 2, 2], [220, 220, 420, 420], [200, 240, 400, 440], [240, 200, 440, 400]])), \"Wrong value on boxes\"\n",
    "\n",
    "print(\"\\033[92m All tests passed!\")"
   ],
   "metadata": {
    "collapsed": false
   }
  }
 ],
 "metadata": {
  "kernelspec": {
   "display_name": "Python 3",
   "language": "python",
   "name": "python3"
  },
  "language_info": {
   "codemirror_mode": {
    "name": "ipython",
    "version": 2
   },
   "file_extension": ".py",
   "mimetype": "text/x-python",
   "name": "python",
   "nbconvert_exporter": "python",
   "pygments_lexer": "ipython2",
   "version": "2.7.6"
  }
 },
 "nbformat": 4,
 "nbformat_minor": 0
}
