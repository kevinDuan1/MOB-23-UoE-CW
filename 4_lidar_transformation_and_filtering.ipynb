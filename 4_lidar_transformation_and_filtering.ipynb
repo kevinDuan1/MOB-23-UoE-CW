{
 "cells": [
  {
   "cell_type": "markdown",
   "source": [
    "# LiDAR Point Cloud Filter"
   ],
   "metadata": {
    "collapsed": false
   }
  },
  {
   "cell_type": "code",
   "execution_count": null,
   "outputs": [],
   "source": [
    "import numpy as np\n",
    "import matplotlib.pyplot as plt\n",
    "import cv2\n",
    "from mob_pc_helper import MOB_Point_Cloud_Helper\n",
    "mob_pc_helper = MOB_Point_Cloud_Helper()"
   ],
   "metadata": {
    "collapsed": false
   }
  },
  {
   "cell_type": "markdown",
   "source": [
    "#### Project lidar point cloud to image"
   ],
   "metadata": {
    "collapsed": false
   }
  },
  {
   "cell_type": "markdown",
   "source": [
    "Let we start with take a look at RGB image"
   ],
   "metadata": {
    "collapsed": false
   }
  },
  {
   "cell_type": "code",
   "execution_count": null,
   "outputs": [],
   "source": [
    "image = mob_pc_helper.read_image('./data/image_02/data/0000001000.png')\n",
    "plt.subplots(1,1, figsize = (13,3))\n",
    "plt.title(\"Frame 1000 Visualization\")\n",
    "plt.imshow(image)"
   ],
   "metadata": {
    "collapsed": false
   }
  },
  {
   "cell_type": "markdown",
   "source": [
    "Please now implement the function lidar_pc_to_cam() for projecting lidar 3D points to camera 2D image plane.\n",
    "\n",
    "We have provided you with rotational matrix and translational matrix from lidar coordinates to camera coordinates\n",
    "\n",
    "We also provided you the camera projection matrix"
   ],
   "metadata": {
    "collapsed": false
   }
  },
  {
   "cell_type": "code",
   "execution_count": null,
   "outputs": [],
   "source": [
    "R = np.array([7.967514e-03,-9.999679e-01,-8.462264e-04,-2.771053e-03,8.241710e-04,-9.999958e-01,9.999644e-01,7.969825e-03,-2.764397e-03])\n",
    "T = np.array([-1.377769e-02,-5.542117e-02,-2.918589e-01])\n",
    "R = R.reshape(3,3) # Rotation matrix\n",
    "T = T.reshape(3, 1) # Translation matrix\n",
    "\n",
    "P = np.array([7.188560e+02,0.000000e+00,6.071928e+02,0.000000e+00,0.000000e+00,7.188560e+02,1.852157e+02,0.000000e+00,0.000000e+00,0.000000e+00,1.000000e+00,0.000000e+00])\n",
    "P = P.reshape(3, 4)\n",
    "P = P[:3, :3] # Camera projection matrix"
   ],
   "metadata": {
    "collapsed": false
   }
  },
  {
   "cell_type": "code",
   "execution_count": null,
   "outputs": [],
   "source": [
    "def lidar_pc_to_cam(lidar_pc):\n",
    "    xyz_v, point_colour = mob_pc_helper.crop_pc_and_reformat(lidar_pc)\n",
    "    # xyz_v - shape (4,n) numpy array that contains n lidar points information (x,y,z,intensity)\n",
    "    # point_colour - shape (n,) numpy array that contains colours information for each point,\n",
    "    #                it will useful for later visualisation. Your implementation\n",
    "    #                should have nothing to do with colour\n",
    "    # START of your implementation\n",
    "\n",
    "    # END of your implementation\n",
    "    # pc_in_img - shape (2,n) numpy array that contains projected lidar points on image plane\n",
    "    # point_colour - should remain the same\n",
    "    return pc_in_img, point_colour"
   ],
   "metadata": {
    "collapsed": false
   }
  },
  {
   "cell_type": "markdown",
   "source": [
    "If your implementation is correct, you should now able to see the point cloud has been project to the image"
   ],
   "metadata": {
    "collapsed": false
   }
  },
  {
   "cell_type": "code",
   "execution_count": null,
   "outputs": [],
   "source": [
    "lidar_pc = mob_pc_helper.read_lidar('./data/velodyne_points/0000001000.bin')\n",
    "lidar_pc_in_img, point_colour = lidar_pc_to_cam(lidar_pc)\n",
    "print(lidar_pc_in_img.shape)\n",
    "# display result image\n",
    "plt.subplots(1,1, figsize = (13,3))\n",
    "plt.title(\"LiDAR points to camera image Result\")\n",
    "plt.imshow(mob_pc_helper.add_projection_on_img(lidar_pc_in_img, point_colour, image))"
   ],
   "metadata": {
    "collapsed": false
   }
  },
  {
   "cell_type": "markdown",
   "source": [
    "#### Filter Point Cloud"
   ],
   "metadata": {
    "collapsed": false
   }
  },
  {
   "cell_type": "markdown",
   "source": [
    "Let we start with some bounding boxes visualization"
   ],
   "metadata": {
    "collapsed": false
   }
  },
  {
   "cell_type": "code",
   "execution_count": null,
   "outputs": [],
   "source": [
    "label = mob_pc_helper.read_label('./data/labels/0000001000.txt')\n",
    "image = mob_pc_helper.read_image('./data/image_02/data/0000001000.png')\n",
    "bbox_image, bbox_list = mob_pc_helper.add_bbox_on_img(image, label)\n",
    "plt.subplots(1,1, figsize = (13,3))\n",
    "plt.title(\"Frame 1000 Bounding Boxes Visualization\")\n",
    "plt.imshow(bbox_image)"
   ],
   "metadata": {
    "collapsed": false
   }
  },
  {
   "cell_type": "markdown",
   "source": [
    "Now please implement the function filter_in_bbox_points() to remove all the points that is in the bounding boxes"
   ],
   "metadata": {
    "collapsed": false
   }
  },
  {
   "cell_type": "code",
   "execution_count": null,
   "outputs": [],
   "source": [
    "def filter_in_bbox_points(points, point_colours, bbox):\n",
    "    # points - shape (2,n) numpy array that contains projected lidar points on image plane\n",
    "    # point_colour - shape (n,) numpy array that contains colours information for each point\n",
    "    # bbox - shape (m,4) numpy array that contains bounding boxes information.\n",
    "    #        Each element in array is a size=4 array of [x1,y1,x2,y2]\n",
    "    #        Where x1,y1 are the bottom left coordinates of bounding boxes,\n",
    "    #        and x2,y2 are the top right coordinates of bounding boxes.\n",
    "    # START of your implementation\n",
    "\n",
    "    # END of your implementation\n",
    "    # filter_points - shape (2,c) numpy array that contains filtered projected lidar points on image plane\n",
    "    # point_colour - shape (c,) numpy array that contains colours information for each filtered point\n",
    "    return filter_points, filter_colours"
   ],
   "metadata": {
    "collapsed": false
   }
  },
  {
   "cell_type": "code",
   "execution_count": null,
   "outputs": [],
   "source": [
    "filter_points, filter_colours = filter_in_bbox_points(lidar_pc_in_img, point_colour, bbox_list)\n",
    "image_with_pc = mob_pc_helper.add_projection_on_img(filter_points, filter_colours, image)\n",
    "bbox_image, bbox_list = mob_pc_helper.add_bbox_on_img(image_with_pc, label)\n",
    "plt.subplots(1,1, figsize = (13,3))\n",
    "plt.title(\"Frame 1000 Point Cloud Filter with Bounding Boxes Visualization\")\n",
    "plt.imshow(bbox_image)"
   ],
   "metadata": {
    "collapsed": false
   }
  }
 ],
 "metadata": {
  "kernelspec": {
   "display_name": "Python 3",
   "language": "python",
   "name": "python3"
  },
  "language_info": {
   "codemirror_mode": {
    "name": "ipython",
    "version": 2
   },
   "file_extension": ".py",
   "mimetype": "text/x-python",
   "name": "python",
   "nbconvert_exporter": "python",
   "pygments_lexer": "ipython2",
   "version": "2.7.6"
  }
 },
 "nbformat": 4,
 "nbformat_minor": 0
}
